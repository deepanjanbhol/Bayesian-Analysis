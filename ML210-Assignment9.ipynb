{
 "cells": [
  {
   "cell_type": "markdown",
   "metadata": {
    "collapsed": true
   },
   "source": [
    "# Assignment 9: Bayesian Analysis"
   ]
  },
  {
   "cell_type": "markdown",
   "metadata": {},
   "source": [
    "### Conditional Probability "
   ]
  },
  {
   "cell_type": "markdown",
   "metadata": {},
   "source": [
    "Q.1 Explain in few terms what is Naive Bayes. What is it considered Naive?"
   ]
  },
  {
   "cell_type": "markdown",
   "metadata": {
    "collapsed": true
   },
   "source": [
    "The Naive Bayesian classifier is based on Bayes’ theorem with the independence assumptions between predictors. \n",
    "A Naive Bayesian model is easy to build, with no complicated iterative parameter estimation which makes it particularly useful for very large datasets. Despite its simplicity, the Naive Bayesian classifier often does surprisingly well and is widely used because it often outperforms more sophisticated classification methods. \n",
    "\n",
    "Naive Bayes (NB) is 'naive' because it makes the assumption that features of a measurement are independent of each other. This is naive because it is (almost) never true."
   ]
  },
  {
   "cell_type": "code",
   "execution_count": 57,
   "metadata": {},
   "outputs": [
    {
     "name": "stdout",
     "output_type": "stream",
     "text": [
      "<class 'pandas.core.frame.DataFrame'>\n",
      "RangeIndex: 1841 entries, 0 to 1840\n",
      "Data columns (total 6 columns):\n",
      "Rash                       1841 non-null object\n",
      "SwollenLymphNode           1841 non-null object\n",
      "Chills                     1841 non-null object\n",
      "PolymeraseChainReaction    1841 non-null object\n",
      "VZVAntibodyTest            1841 non-null object\n",
      "Blisters                   1841 non-null object\n",
      "dtypes: object(6)\n",
      "memory usage: 86.4+ KB\n",
      "None\n"
     ]
    },
    {
     "data": {
      "text/html": [
       "<div>\n",
       "<style scoped>\n",
       "    .dataframe tbody tr th:only-of-type {\n",
       "        vertical-align: middle;\n",
       "    }\n",
       "\n",
       "    .dataframe tbody tr th {\n",
       "        vertical-align: top;\n",
       "    }\n",
       "\n",
       "    .dataframe thead th {\n",
       "        text-align: right;\n",
       "    }\n",
       "</style>\n",
       "<table border=\"1\" class=\"dataframe\">\n",
       "  <thead>\n",
       "    <tr style=\"text-align: right;\">\n",
       "      <th></th>\n",
       "      <th>Rash</th>\n",
       "      <th>SwollenLymphNode</th>\n",
       "      <th>Chills</th>\n",
       "      <th>PolymeraseChainReaction</th>\n",
       "      <th>VZVAntibodyTest</th>\n",
       "      <th>Blisters</th>\n",
       "    </tr>\n",
       "  </thead>\n",
       "  <tbody>\n",
       "    <tr>\n",
       "      <th>0</th>\n",
       "      <td>no</td>\n",
       "      <td>no</td>\n",
       "      <td>no</td>\n",
       "      <td>no</td>\n",
       "      <td>pos</td>\n",
       "      <td>no</td>\n",
       "    </tr>\n",
       "    <tr>\n",
       "      <th>1</th>\n",
       "      <td>yes</td>\n",
       "      <td>no</td>\n",
       "      <td>no</td>\n",
       "      <td>no</td>\n",
       "      <td>neg</td>\n",
       "      <td>no</td>\n",
       "    </tr>\n",
       "    <tr>\n",
       "      <th>2</th>\n",
       "      <td>no</td>\n",
       "      <td>no</td>\n",
       "      <td>no</td>\n",
       "      <td>no</td>\n",
       "      <td>neg</td>\n",
       "      <td>no</td>\n",
       "    </tr>\n",
       "    <tr>\n",
       "      <th>3</th>\n",
       "      <td>no</td>\n",
       "      <td>no</td>\n",
       "      <td>no</td>\n",
       "      <td>no</td>\n",
       "      <td>neg</td>\n",
       "      <td>no</td>\n",
       "    </tr>\n",
       "    <tr>\n",
       "      <th>4</th>\n",
       "      <td>no</td>\n",
       "      <td>no</td>\n",
       "      <td>no</td>\n",
       "      <td>no</td>\n",
       "      <td>neg</td>\n",
       "      <td>no</td>\n",
       "    </tr>\n",
       "  </tbody>\n",
       "</table>\n",
       "</div>"
      ],
      "text/plain": [
       "  Rash SwollenLymphNode Chills PolymeraseChainReaction VZVAntibodyTest  \\\n",
       "0   no               no     no                      no             pos   \n",
       "1  yes               no     no                      no             neg   \n",
       "2   no               no     no                      no             neg   \n",
       "3   no               no     no                      no             neg   \n",
       "4   no               no     no                      no             neg   \n",
       "\n",
       "  Blisters  \n",
       "0       no  \n",
       "1       no  \n",
       "2       no  \n",
       "3       no  \n",
       "4       no  "
      ]
     },
     "execution_count": 57,
     "metadata": {},
     "output_type": "execute_result"
    }
   ],
   "source": [
    "# Imports\n",
    "import matplotlib.pyplot as plt\n",
    "import warnings\n",
    "%matplotlib inline\n",
    "warnings.filterwarnings(\"ignore\")\n",
    "import pandas as pd\n",
    "from sklearn import (\n",
    "    ensemble,\n",
    "    model_selection,    \n",
    "    preprocessing,\n",
    "    tree,\n",
    ")\n",
    "from sklearn.metrics import (\n",
    "    auc,\n",
    "    confusion_matrix,\n",
    "    roc_auc_score,\n",
    "    roc_curve,\n",
    ")\n",
    "from sklearn.model_selection import (\n",
    "    train_test_split,\n",
    "    StratifiedKFold,\n",
    ")\n",
    "\n",
    "import pandas_profiling\n",
    "\n",
    "from sklearn.model_selection import train_test_split\n",
    "\n",
    "data = pd.read_csv('shingles.csv')\n",
    "print(data.info())\n",
    "data.head()"
   ]
  },
  {
   "cell_type": "markdown",
   "metadata": {},
   "source": [
    "Q.2. Does this data contain any missing values?"
   ]
  },
  {
   "cell_type": "code",
   "execution_count": 58,
   "metadata": {},
   "outputs": [
    {
     "data": {
      "text/plain": [
       "Rash                       0\n",
       "SwollenLymphNode           0\n",
       "Chills                     0\n",
       "PolymeraseChainReaction    0\n",
       "VZVAntibodyTest            0\n",
       "Blisters                   0\n",
       "dtype: int64"
      ]
     },
     "execution_count": 58,
     "metadata": {},
     "output_type": "execute_result"
    }
   ],
   "source": [
    "data.isnull().sum() #checking the dataset for NaN values .... NaN values in two columns\n",
    "# data is not containing missing values."
   ]
  },
  {
   "cell_type": "markdown",
   "metadata": {},
   "source": [
    "Q.3. Split the data into 70/30 train test"
   ]
  },
  {
   "cell_type": "code",
   "execution_count": 59,
   "metadata": {
    "collapsed": true
   },
   "outputs": [],
   "source": [
    "from sklearn.model_selection import train_test_split\n",
    "\n",
    "# converting column to \"0\" and \"1\" \n",
    "def boolean_to_numeric(x):\n",
    "    # return 1 if column is true, 0 otherwise\n",
    "    if x == 'yes':\n",
    "        return 1\n",
    "    else:\n",
    "        return 0\n",
    "\n",
    "# converting column to \"0\" and \"1\" \n",
    "def AntibodyTest_to_numeric(x):\n",
    "    # return 1 if antibodytest is positive, 0 otherwise\n",
    "    if x == 'pos':\n",
    "        return 1\n",
    "    else:\n",
    "        return 0\n",
    "    \n",
    "# apply the function to this column\n",
    "data['Rash'] = data['Rash'].apply(boolean_to_numeric)\n",
    "data['SwollenLymphNode'] = data['SwollenLymphNode'].apply(boolean_to_numeric)\n",
    "data['Chills'] = data['Chills'].apply(boolean_to_numeric)\n",
    "data['PolymeraseChainReaction'] = data['PolymeraseChainReaction'].apply(boolean_to_numeric)\n",
    "data['Blisters'] = data['Blisters'].apply(boolean_to_numeric)\n",
    "data['VZVAntibodyTest'] = data['VZVAntibodyTest'].apply(AntibodyTest_to_numeric)\n",
    "\n",
    "data.head(10)\n",
    "\n",
    "X = data.loc[:, data.columns != 'Rash']\n",
    "y = data.loc[:, data.columns == 'Rash']\n",
    "X_train, X_test, y_train, y_test = train_test_split(X, y, test_size=0.3, random_state=42)"
   ]
  },
  {
   "cell_type": "markdown",
   "metadata": {},
   "source": [
    "Q.4. Train a Gaussian Naive Bayes model, a Multinomial Naive Bayes and a Bernoulli Naive Bayes on the dataset to predict Rash. Compute the accuracy for each. Explain your results. "
   ]
  },
  {
   "cell_type": "code",
   "execution_count": 60,
   "metadata": {},
   "outputs": [
    {
     "name": "stdout",
     "output_type": "stream",
     "text": [
      "BernoulliNB(alpha=1.0, binarize=True, class_prior=None, fit_prior=True)\n",
      "0.48282097649186256\n",
      "MultinomialNB(alpha=1.0, class_prior=None, fit_prior=True)\n",
      "0.5334538878842676\n",
      "GaussianNB(priors=None, var_smoothing=1e-09)\n",
      "0.5135623869801085\n"
     ]
    }
   ],
   "source": [
    "from sklearn.naive_bayes import BernoulliNB\n",
    "from sklearn.naive_bayes import GaussianNB\n",
    "from sklearn.naive_bayes import MultinomialNB\n",
    "from sklearn.metrics import accuracy_score\n",
    "\n",
    "# Bernoulli Naive bayes based model\n",
    "BernNB = BernoulliNB(binarize=True)\n",
    "BernNB.fit(X_train, y_train)\n",
    "print(BernNB)\n",
    "\n",
    "y_pred = BernNB.predict(X_test)\n",
    "print(accuracy_score(y_test, y_pred))\n",
    "\n",
    "# Multinomial Naive Bayes based model\n",
    "MultiNB = MultinomialNB()\n",
    "MultiNB.fit(X_train, y_train)\n",
    "print(MultiNB)\n",
    "\n",
    "y_pred = MultiNB.predict(X_test)\n",
    "print(accuracy_score(y_test, y_pred))\n",
    "\n",
    "# Gaussian Naive based model\n",
    "GausNB = GaussianNB()\n",
    "GausNB.fit(X_train, y_train)\n",
    "print(GausNB)\n",
    "\n",
    "y_pred = GausNB.predict(X_test)\n",
    "print(accuracy_score(y_test, y_pred))"
   ]
  },
  {
   "cell_type": "markdown",
   "metadata": {},
   "source": [
    "Q.5. Utilizing Pipeline and GridSearchCV, use 5 different alpha values to train a Bernoulli Naive Bayes and Multinomial Naive Bayes on the dataset. Print out the accuracy for each, and explain your results."
   ]
  },
  {
   "cell_type": "code",
   "execution_count": 61,
   "metadata": {},
   "outputs": [
    {
     "name": "stdout",
     "output_type": "stream",
     "text": [
      "MulitNomial Naive Bayes results\n",
      "Best Score:  0.5822981366459627\n",
      "Best Params:  {'mnb__alpha': 1, 'mnb__fit_prior': True}\n",
      "\n",
      "Bernoulli Naive Bayes results\n",
      "Best Score:  0.5714285714285714\n",
      "Best Params:  {'bnl__alpha': 100}\n"
     ]
    }
   ],
   "source": [
    "from sklearn.model_selection import GridSearchCV\n",
    "from sklearn.pipeline import Pipeline\n",
    "import numpy as np\n",
    "\n",
    "# ------ MulitNomial Naive Bayes results ----------\n",
    "\n",
    "grid_params = {\n",
    "  'mnb__alpha': (1000, 100, 1, 0.1, 0.001),\n",
    "  'mnb__fit_prior': [True, False]\n",
    "}\n",
    "\n",
    "mnb_pipeline = Pipeline([\n",
    "    ('mnb', MultinomialNB())\n",
    "])\n",
    "\n",
    "clf = GridSearchCV(mnb_pipeline, grid_params, scoring='accuracy', return_train_score=True)\n",
    "clf.fit(X_train, y_train)\n",
    "print(\"MulitNomial Naive Bayes results\")\n",
    "print(\"Best Score: \", clf.best_score_)\n",
    "print(\"Best Params: \", clf.best_params_)\n",
    "\n",
    "# ------ Bernoulli Naive Bayes results ----------\n",
    "\n",
    "grid_params = {\n",
    "  'bnl__alpha': (1000, 100, 1, 0.1, 0.001)\n",
    "}\n",
    "\n",
    "bnl_pipeline = Pipeline([\n",
    "    ('bnl', BernoulliNB())\n",
    "])\n",
    "\n",
    "bnl = GridSearchCV(bnl_pipeline, grid_params, scoring='accuracy', return_train_score=True)\n",
    "bnl.fit(X_train, y_train)\n",
    "print(\"\\nBernoulli Naive Bayes results\")\n",
    "print(\"Best Score: \", bnl.best_score_)\n",
    "print(\"Best Params: \", bnl.best_params_)\n",
    "\n",
    "# Tried out both Bernoulli and MulitNomial naive bayes on different alpha values and figured out the best possible alpha values\n",
    "# in the set of 5. Multinomial has better accuracy over Bernoulli based naive bayes."
   ]
  },
  {
   "cell_type": "markdown",
   "metadata": {},
   "source": [
    "## Inference in Bayesian networks"
   ]
  },
  {
   "cell_type": "markdown",
   "metadata": {},
   "source": [
    "Q.6. Create a new text cell in your Notebook: Complete a 50-100 word summary \n",
    "    (or short description of your thinking in applying this week's learning to the solution) \n",
    "     of your experience in this assignment. Include:\n",
    "                                                                      \n",
    "What was your incoming experience with this model, if any?\n",
    "what steps you took, what obstacles you encountered.\n",
    "how you link this exercise to real-world, machine learning problem-solving. (What steps were missing? What else do you need to learn?)\n",
    "This summary allows your instructor to know how you are doing and allot points for your effort in thinking and planning, and making connections to real-world work.\n"
   ]
  },
  {
   "cell_type": "markdown",
   "metadata": {
    "collapsed": true
   },
   "source": [
    "It was interesting to learn the use of different types of Naive Based models. We could also learn the usage of pipeline and GridsearchCV to figure out the best possible configuration to run the models.\n",
    "As explained during lesson, Bayes based inference models helps us in re-evaluating probability of certain evidence taking another event into consideration. \n",
    "Even though I gathered an overview of the lesson, I need to go through the basics of the lessob in some more depth."
   ]
  }
 ],
 "metadata": {
  "kernelspec": {
   "display_name": "Python 3 [3.6]",
   "language": "python",
   "name": "python3"
  },
  "language_info": {
   "codemirror_mode": {
    "name": "ipython",
    "version": 3
   },
   "file_extension": ".py",
   "mimetype": "text/x-python",
   "name": "python",
   "nbconvert_exporter": "python",
   "pygments_lexer": "ipython3",
   "version": "3.6.4"
  }
 },
 "nbformat": 4,
 "nbformat_minor": 2
}
